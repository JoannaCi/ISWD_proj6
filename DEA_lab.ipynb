{
 "cells": [
  {
   "cell_type": "code",
   "execution_count": 1,
   "metadata": {},
   "outputs": [],
   "source": [
    "import pandas as pd\n",
    "from pulp import *"
   ]
  },
  {
   "cell_type": "code",
   "execution_count": 4,
   "metadata": {},
   "outputs": [],
   "source": [
    "inputs = pd.read_csv('inputs.csv', index_col=0, delimiter=';')\n",
    "outputs = pd.read_csv('outputs.csv', index_col=0, delimiter=';')\n"
   ]
  },
  {
   "cell_type": "code",
   "execution_count": 20,
   "metadata": {},
   "outputs": [
    {
     "name": "stdout",
     "output_type": "stream",
     "text": [
      "Welcome to the CBC MILP Solver \n",
      "Version: 2.10.3 \n",
      "Build Date: Dec 15 2019 \n",
      "\n",
      "command line - /Users/joanna/miniconda3/envs/iswd/lib/python3.12/site-packages/pulp/solverdir/cbc/osx/64/cbc /var/folders/05/htkmyw9s0mj9r1tdvqjv8cg00000gn/T/8caa7611b48c48dba2d26b9bfbbe1f78-pulp.mps -timeMode elapsed -branch -printingOptions all -solution /var/folders/05/htkmyw9s0mj9r1tdvqjv8cg00000gn/T/8caa7611b48c48dba2d26b9bfbbe1f78-pulp.sol (default strategy 1)\n",
      "At line 2 NAME          MODEL\n",
      "At line 3 ROWS\n",
      "At line 11 COLUMNS\n",
      "At line 83 RHS\n",
      "At line 90 BOUNDS\n",
      "At line 91 ENDATA\n",
      "Problem MODEL has 6 rows, 12 columns and 70 elements\n",
      "Coin0008I MODEL read with 0 errors\n",
      "Option for timeMode changed from cpu to elapsed\n",
      "Presolve 6 (0) rows, 12 (0) columns and 70 (0) elements\n",
      "Perturbing problem by 0.001% of 0.58465567 - largest nonzero change 1.2851015e-05 ( 0.0021980484%) - largest zero change 1.1190008e-05\n",
      "0  Obj 0 Primal inf 90.892342 (2)\n",
      "6  Obj 1.0001105\n",
      "Optimal - objective value 1\n",
      "Optimal objective 1 - 6 iterations time 0.002\n",
      "Option for printingOptions changed from normal to all\n",
      "Total time (CPU seconds):       0.00   (Wallclock seconds):       0.00\n",
      "\n",
      "Efficiency for WAW: 1.0\n"
     ]
    }
   ],
   "source": [
    "efficiency_scores = {}\n",
    "reference_units = {}\n",
    "\n",
    "for DMUo in inputs.index:\n",
    "    problem = LpProblem(f\"Efficiency_{DMUo}\", LpMinimize)\n",
    "\n",
    "    lambdas = LpVariable.dicts(\"Lambda\", (i for i in inputs.index), lowBound=0)\n",
    "    theta = LpVariable(\"theta\", lowBound=0)  # Dodatkowa zmienna reprezentująca efektywność\n",
    "\n",
    "    # Funkcja celu: minimalizacja theta\n",
    "    problem += theta\n",
    "\n",
    "    # Ograniczenia na nakłady\n",
    "    for input_metric in inputs.columns:\n",
    "        problem += lpSum([lambdas[i] * inputs.loc[i, input_metric] for i in inputs.index]) <= theta * inputs.loc[DMUo, input_metric]\n",
    "\n",
    "    # Ograniczenia na produkcję\n",
    "    for output_metric in outputs.columns:\n",
    "        problem += lpSum([lambdas[i] * outputs.loc[i, output_metric] for i in outputs.index]) >= outputs.loc[DMUo, output_metric]\n",
    "    problem.solve(PULP_CBC_CMD(msg=False))\n",
    "\n",
    "    # Wypisanie wyników\n",
    "    if LpStatus[problem.status] == 'Optimal':\n",
    "        efficiency_score = 1 / value(theta)  # Odwrócenie wyniku, ponieważ minimalizujemy theta\n",
    "        print(f\"Efficiency for {DMUo}: {efficiency_score}\")\n",
    "    else:\n",
    "        print(f\"Problem for {DMUo} is not solvable\")"
   ]
  },
  {
   "cell_type": "code",
   "execution_count": 26,
   "metadata": {},
   "outputs": [
    {
     "name": "stdout",
     "output_type": "stream",
     "text": [
      "Efficiency for WAW: 1.00\n",
      "Efficiency for KRK: 1.00\n",
      "Efficiency for KAT: 0.59\n",
      "Reference units for KAT:\n",
      "  KRK: 0.00\n",
      "  WRO: 1.23\n",
      "  GDN: 0.27\n",
      "Efficiency for WRO: 1.00\n",
      "Efficiency for POZ: 0.80\n",
      "Reference units for POZ:\n",
      "  WAW: 0.05\n",
      "  KRK: 0.07\n",
      "  WRO: 0.20\n",
      "  GDN: 0.16\n",
      "Efficiency for LCJ: 0.30\n",
      "Reference units for LCJ:\n",
      "  GDN: 0.16\n",
      "  BZG: 0.06\n",
      "Efficiency for GDN: 1.00\n",
      "Efficiency for SZZ: 0.27\n",
      "Reference units for SZZ:\n",
      "  WAW: 0.00\n",
      "  GDN: 0.15\n",
      "  BZG: 0.06\n",
      "Efficiency for BZG: 1.00\n",
      "Efficiency for RZE: 0.41\n",
      "Reference units for RZE:\n",
      "  WRO: 0.12\n",
      "  GDN: 0.05\n",
      "  BZG: 0.03\n",
      "Efficiency for IEG: 0.26\n",
      "Reference units for IEG:\n",
      "  GDN: 0.03\n"
     ]
    }
   ],
   "source": [
    "from pulp import *\n",
    "\n",
    "# Załaduj dane\n",
    "inputs = pd.read_csv('inputs.csv', index_col=0, delimiter=';')\n",
    "outputs = pd.read_csv('outputs.csv', index_col=0, delimiter=';')\n",
    "\n",
    "# Przechowuje wyniki\n",
    "efficiency_scores = {}\n",
    "reference_units = {}\n",
    "\n",
    "# Pętla dla każdego lotniska\n",
    "for DMUo in inputs.index:\n",
    "    problem = LpProblem(f\"Efficiency_{DMUo}\", LpMinimize)\n",
    "\n",
    "    lambdas = LpVariable.dicts(\"Lambda\", (i for i in inputs.index), lowBound=0)\n",
    "    theta = LpVariable(\"theta\", lowBound=0, upBound=1)  # Zmienna reprezentująca efektywność\n",
    "\n",
    "    # Funkcja celu: minimalizacja theta\n",
    "    problem += theta\n",
    "\n",
    "    # Ograniczenia na nakłady\n",
    "    for input_metric in inputs.columns:\n",
    "        problem += lpSum([lambdas[i] * inputs.loc[i, input_metric] for i in inputs.index]) <= theta * inputs.loc[DMUo, input_metric]\n",
    "\n",
    "    # Ograniczenia na produkcję\n",
    "    for output_metric in outputs.columns:\n",
    "        problem += lpSum([lambdas[i] * outputs.loc[i, output_metric] for i in outputs.index]) >= outputs.loc[DMUo, output_metric]\n",
    "\n",
    "    # Rozwiązanie problemu\n",
    "    problem.solve(PULP_CBC_CMD(msg=False))\n",
    "\n",
    "    if LpStatus[problem.status] == 'Optimal':\n",
    "        efficiency_score = value(theta)  # Theta jest już efektywnością\n",
    "        efficiency_scores[DMUo] = efficiency_score\n",
    "\n",
    "        # Zbieranie informacji o jednostkach referencyjnych dla nieefektywnych DMU\n",
    "        if efficiency_score < 1:\n",
    "            reference_units[DMUo] = {}\n",
    "            for i in inputs.index:\n",
    "                if lambdas[i].varValue > 0:\n",
    "                    reference_units[DMUo][i] = lambdas[i].varValue\n",
    "\n",
    "    else:\n",
    "        print(f\"Problem for {DMUo} is not solvable\")\n",
    "\n",
    "# Wydrukuj wyniki\n",
    "for airport, efficiency in efficiency_scores.items():\n",
    "    print(f\"Efficiency for {airport}: {efficiency:.2f}\")\n",
    "    if airport in reference_units:\n",
    "        print(f\"Reference units for {airport}:\")\n",
    "        for ref, value in reference_units[airport].items():\n",
    "            print(f\"  {ref}: {value:.2f}\")\n"
   ]
  },
  {
   "cell_type": "code",
   "execution_count": null,
   "metadata": {},
   "outputs": [],
   "source": []
  }
 ],
 "metadata": {
  "kernelspec": {
   "display_name": "iswd",
   "language": "python",
   "name": "python3"
  },
  "language_info": {
   "codemirror_mode": {
    "name": "ipython",
    "version": 3
   },
   "file_extension": ".py",
   "mimetype": "text/x-python",
   "name": "python",
   "nbconvert_exporter": "python",
   "pygments_lexer": "ipython3",
   "version": "3.12.2"
  }
 },
 "nbformat": 4,
 "nbformat_minor": 2
}
