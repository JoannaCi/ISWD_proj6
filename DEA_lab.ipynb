{
 "cells": [
  {
   "cell_type": "code",
   "execution_count": 42,
   "metadata": {},
   "outputs": [],
   "source": [
    "import pandas as pd\n",
    "from pulp import *"
   ]
  },
  {
   "cell_type": "code",
   "execution_count": 43,
   "metadata": {},
   "outputs": [],
   "source": [
    "inputs = pd.read_csv('inputs.csv', index_col=0, delimiter=';')\n",
    "outputs = pd.read_csv('outputs.csv', index_col=0, delimiter=';')"
   ]
  },
  {
   "cell_type": "code",
   "execution_count": 44,
   "metadata": {},
   "outputs": [],
   "source": [
    "efficiency_scores = {}\n",
    "reference_units = {}\n",
    "adjustments = {}"
   ]
  },
  {
   "cell_type": "markdown",
   "metadata": {},
   "source": []
  },
  {
   "cell_type": "code",
   "execution_count": 45,
   "metadata": {},
   "outputs": [
    {
     "name": "stdout",
     "output_type": "stream",
     "text": [
      "Efficiency for WAW: 1.00\n",
      "Efficiency for KRK: 1.00\n",
      "Efficiency for KAT: 0.59\n",
      "Adjustments for KAT:\n",
      "  i1: reduce to 2.13\n",
      "  i2: reduce to 18.92\n",
      "  i3: reduce to 33.94\n",
      "  i4: reduce to 4.40\n",
      "Efficiency for WRO: 1.00\n",
      "Efficiency for POZ: 0.80\n",
      "Adjustments for POZ:\n",
      "  i1: reduce to 1.20\n",
      "  i2: reduce to 8.00\n",
      "  i3: reduce to 19.20\n",
      "  i4: reduce to 1.93\n",
      "Efficiency for LCJ: 0.30\n",
      "Adjustments for LCJ:\n",
      "  i1: reduce to 0.18\n",
      "  i2: reduce to 2.78\n",
      "  i3: reduce to 7.20\n",
      "  i4: reduce to 0.47\n",
      "Efficiency for GDN: 1.00\n",
      "Efficiency for SZZ: 0.27\n",
      "Adjustments for SZZ:\n",
      "  i1: reduce to 0.19\n",
      "  i2: reduce to 2.71\n",
      "  i3: reduce to 6.96\n",
      "  i4: reduce to 0.47\n",
      "Efficiency for BZG: 1.00\n",
      "Efficiency for RZE: 0.41\n",
      "Adjustments for RZE:\n",
      "  i1: reduce to 0.25\n",
      "  i2: reduce to 2.46\n",
      "  i3: reduce to 4.62\n",
      "  i4: reduce to 0.54\n",
      "Efficiency for IEG: 0.26\n",
      "Adjustments for IEG:\n",
      "  i1: reduce to 0.03\n",
      "  i2: reduce to 0.39\n",
      "  i3: reduce to 1.11\n",
      "  i4: reduce to 0.06\n"
     ]
    }
   ],
   "source": [
    "for DMUo in inputs.index:\n",
    "    problem = LpProblem(f\"Efficiency_{DMUo}\", LpMinimize)\n",
    "\n",
    "    lambdas = LpVariable.dicts(\"Lambda\", (i for i in inputs.index), lowBound=0)\n",
    "    theta = LpVariable(\"theta\", lowBound=0, upBound=1)\n",
    "\n",
    "    problem += theta\n",
    "\n",
    "    for input_metric in inputs.columns:\n",
    "        problem += lpSum([lambdas[i] * inputs.loc[i, input_metric] for i in inputs.index]) <= theta * inputs.loc[DMUo, input_metric]\n",
    "\n",
    "    for output_metric in outputs.columns:\n",
    "        problem += lpSum([lambdas[i] * outputs.loc[i, output_metric] for i in outputs.index]) >= outputs.loc[DMUo, output_metric]\n",
    "\n",
    "    problem.solve(PULP_CBC_CMD(msg=False))\n",
    "\n",
    "    if LpStatus[problem.status] == 'Optimal':\n",
    "        efficiency_score = value(theta)\n",
    "        efficiency_scores[DMUo] = efficiency_score\n",
    "\n",
    "        if efficiency_score < 1:\n",
    "            reference_units[DMUo] = {}\n",
    "            adjustments[DMUo] = {}\n",
    "            for i in inputs.index:\n",
    "                if lambdas[i].varValue > 0:\n",
    "                    reference_units[DMUo][i] = lambdas[i].varValue\n",
    "\n",
    "            for input_metric in inputs.columns:\n",
    "                optimal_input = sum(lambdas[i].varValue * inputs.loc[i, input_metric] for i in inputs.index)\n",
    "                adjustments[DMUo][input_metric] = optimal_input\n",
    "\n",
    "    else:\n",
    "        print(f\"Problem for {DMUo} is not solvable\")\n",
    "\n",
    "for airport, efficiency in efficiency_scores.items():\n",
    "    print(f\"Efficiency for {airport}: {efficiency:.2f}\")\n",
    "    if airport in adjustments:\n",
    "        print(f\"Adjustments for {airport}:\")\n",
    "        for metric, value in adjustments[airport].items():\n",
    "            print(f\"  {metric}: reduce to {value:.2f}\")\n"
   ]
  },
  {
   "cell_type": "code",
   "execution_count": null,
   "metadata": {},
   "outputs": [],
   "source": []
  }
 ],
 "metadata": {
  "kernelspec": {
   "display_name": "iswd",
   "language": "python",
   "name": "python3"
  },
  "language_info": {
   "codemirror_mode": {
    "name": "ipython",
    "version": 3
   },
   "file_extension": ".py",
   "mimetype": "text/x-python",
   "name": "python",
   "nbconvert_exporter": "python",
   "pygments_lexer": "ipython3",
   "version": "3.12.2"
  }
 },
 "nbformat": 4,
 "nbformat_minor": 2
}
